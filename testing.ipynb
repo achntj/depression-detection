{
 "cells": [
  {
   "cell_type": "code",
   "execution_count": 1,
   "id": "cd2b7928",
   "metadata": {},
   "outputs": [
    {
     "name": "stdout",
     "output_type": "stream",
     "text": [
      "Hello, this function is the updated one. :)\n"
     ]
    }
   ],
   "source": [
    "from preprocessing_universal import *"
   ]
  },
  {
   "cell_type": "code",
   "execution_count": 2,
   "id": "3f1cf425",
   "metadata": {},
   "outputs": [],
   "source": [
    "import pandas as pd\n",
    "pd.set_option('display.max_colwidth', None)"
   ]
  },
  {
   "cell_type": "code",
   "execution_count": 38,
   "id": "3ec7f077",
   "metadata": {},
   "outputs": [
    {
     "name": "stdout",
     "output_type": "stream",
     "text": [
      "Enter tweet here: Life is perfect, but your sneakers can be\t\n"
     ]
    }
   ],
   "source": [
    "input_text = input(\"Enter tweet here: \")\n",
    "user_df = pd.DataFrame(columns=[\"raw-text\", \"text\"], data=[[input_text, input_text]])\n",
    "user_df = preprocessing(user_df)\n",
    "user_df.columns = [\"raw-text\", \"processed_text\", \"label\"]"
   ]
  },
  {
   "cell_type": "code",
   "execution_count": 37,
   "id": "f9ecb9ab",
   "metadata": {},
   "outputs": [],
   "source": [
    "user_df1 = user_df"
   ]
  },
  {
   "cell_type": "code",
   "execution_count": 43,
   "id": "9f85bca8",
   "metadata": {},
   "outputs": [
    {
     "data": {
      "text/plain": [
       "-2.4979999999999998"
      ]
     },
     "execution_count": 43,
     "metadata": {},
     "output_type": "execute_result"
    }
   ],
   "source": [
    "sentiment_vader.polarity_scores('Life is not perfect, but your sneakers can be')['compound']*10"
   ]
  },
  {
   "cell_type": "code",
   "execution_count": 44,
   "id": "e9e3cb03",
   "metadata": {},
   "outputs": [
    {
     "data": {
      "text/plain": [
       "-5.0"
      ]
     },
     "execution_count": 44,
     "metadata": {},
     "output_type": "execute_result"
    }
   ],
   "source": [
    "TextBlob('Life is not perfect, but your sneakers can be').sentiment.polarity*10"
   ]
  },
  {
   "cell_type": "code",
   "execution_count": 39,
   "id": "3d95045a",
   "metadata": {},
   "outputs": [
    {
     "data": {
      "text/html": [
       "<div>\n",
       "<style scoped>\n",
       "    .dataframe tbody tr th:only-of-type {\n",
       "        vertical-align: middle;\n",
       "    }\n",
       "\n",
       "    .dataframe tbody tr th {\n",
       "        vertical-align: top;\n",
       "    }\n",
       "\n",
       "    .dataframe thead th {\n",
       "        text-align: right;\n",
       "    }\n",
       "</style>\n",
       "<table border=\"1\" class=\"dataframe\">\n",
       "  <thead>\n",
       "    <tr style=\"text-align: right;\">\n",
       "      <th></th>\n",
       "      <th>raw-text</th>\n",
       "      <th>processed_text</th>\n",
       "      <th>label</th>\n",
       "    </tr>\n",
       "  </thead>\n",
       "  <tbody>\n",
       "    <tr>\n",
       "      <th>0</th>\n",
       "      <td>Life is perfect, but your sneakers can be\\t</td>\n",
       "      <td>life be perfect but your sneaker can be</td>\n",
       "      <td>pos</td>\n",
       "    </tr>\n",
       "    <tr>\n",
       "      <th>0</th>\n",
       "      <td>Life is not perfect, but your sneakers can be</td>\n",
       "      <td>life be not perfect but your sneaker can be</td>\n",
       "      <td>neg</td>\n",
       "    </tr>\n",
       "  </tbody>\n",
       "</table>\n",
       "</div>"
      ],
      "text/plain": [
       "                                        raw-text  \\\n",
       "0    Life is perfect, but your sneakers can be\\t   \n",
       "0  Life is not perfect, but your sneakers can be   \n",
       "\n",
       "                                processed_text label  \n",
       "0      life be perfect but your sneaker can be   pos  \n",
       "0  life be not perfect but your sneaker can be   neg  "
      ]
     },
     "execution_count": 39,
     "metadata": {},
     "output_type": "execute_result"
    }
   ],
   "source": [
    "final_df = pd.concat([user_df, user_df1])\n",
    "final_df"
   ]
  },
  {
   "cell_type": "code",
   "execution_count": null,
   "id": "02351af1",
   "metadata": {},
   "outputs": [],
   "source": [
    "def mark_label(sentiment, sentiment2):\n",
    "    if sentiment < 0 and sentiment2 < 0:\n",
    "        sentiment = 'neg'\n",
    "    elif sentiment >= 0 or sentiment2 >= 0:\n",
    "        sentiment = 'pos'\n",
    "        \n",
    "    return sentiment\n",
    "\n",
    "\n",
    "df['label'] = df.apply(lambda x: mark_label(x.textblob_sentiment, x.vader_sentiment), axis=1)"
   ]
  }
 ],
 "metadata": {
  "kernelspec": {
   "display_name": "Python 3 (ipykernel)",
   "language": "python",
   "name": "python3"
  },
  "language_info": {
   "codemirror_mode": {
    "name": "ipython",
    "version": 3
   },
   "file_extension": ".py",
   "mimetype": "text/x-python",
   "name": "python",
   "nbconvert_exporter": "python",
   "pygments_lexer": "ipython3",
   "version": "3.10.14"
  }
 },
 "nbformat": 4,
 "nbformat_minor": 5
}
