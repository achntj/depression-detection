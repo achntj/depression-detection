{
 "cells": [
  {
   "cell_type": "code",
   "execution_count": 1,
   "id": "6404ad93",
   "metadata": {},
   "outputs": [],
   "source": [
    "import numpy as np\n",
    "import pandas as pd\n",
    "import re\n",
    "import nltk\n",
    "import spacy\n",
    "import string"
   ]
  },
  {
   "cell_type": "code",
   "execution_count": 2,
   "id": "a29aa035",
   "metadata": {},
   "outputs": [],
   "source": [
    "def text_lower(text):\n",
    "    text = text.lower()\n",
    "    text = text.replace('\\n', ' ')\n",
    "    text = text.replace('&amp;','and')\n",
    "    return text\n",
    "    \n",
    "# df['text_lower'] = df['text'].apply(text_lower)"
   ]
  },
  {
   "cell_type": "code",
   "execution_count": 3,
   "id": "27adcc4d",
   "metadata": {},
   "outputs": [],
   "source": [
    "def remove_usernames(text):\n",
    "    user_pattern = re.compile(r'(?<=^|(?<=[^a-zA-Z0-9-\\.]))@([A-Za-z_]+[A-Za-z0-9_]+)')\n",
    "    return user_pattern.sub(r'USER', text)\n",
    "\n",
    "# df['text_no_user'] = df['text_lower'].apply(remove_usernames)"
   ]
  },
  {
   "cell_type": "code",
   "execution_count": 4,
   "id": "0e3ad42f",
   "metadata": {},
   "outputs": [],
   "source": [
    "from emot.emo_unicode import UNICODE_EMO, EMOTICONS\n",
    "\n",
    "# Function for converting emojis into word\n",
    "def convert_emojis(text):\n",
    "    for emot in UNICODE_EMO:\n",
    "        text = text.replace(emot, \" \".join(UNICODE_EMO[emot].replace(\",\",\"\").replace(\":\",\"\").split()))\n",
    "    return text\n",
    "\n",
    "# Function for converting emoticons into word\n",
    "def convert_emoticons(text):\n",
    "    for emot in EMOTICONS:\n",
    "        text = re.sub(u'('+emot+')', \" \".join(EMOTICONS[emot].replace(\",\",\"\").split()), text)\n",
    "    return text\n",
    "\n",
    "# df['text_no_emoji'] = df['text_no_user'].apply(convert_emoticons)\n",
    "# df['text_no_emoji'] = df['text_no_user'].apply(convert_emojis)"
   ]
  },
  {
   "cell_type": "code",
   "execution_count": 5,
   "id": "1b4c04d5",
   "metadata": {},
   "outputs": [],
   "source": [
    "# Function for url s\n",
    "def remove_urls(text):\n",
    "    url_pattern = re.compile(r'https?://\\S+|www\\.\\S+')\n",
    "    return url_pattern.sub(r'URL', text)\n",
    "\n",
    "# df['text_no_url'] = df['text_no_emoji'].apply(remove_urls)"
   ]
  },
  {
   "cell_type": "code",
   "execution_count": 6,
   "id": "837fd581",
   "metadata": {},
   "outputs": [],
   "source": [
    "import contractions\n",
    "\n",
    "def word_expand(text):\n",
    "    expanded_words = []       \n",
    "    for word in text.split():\n",
    "        expanded_words.append(contractions.fix(word))\n",
    "    expanded_text = ' '.join(expanded_words)\n",
    "    return expanded_text\n",
    "    \n",
    "# df['text_expanded'] = df['text_no_url'].apply(word_expand)"
   ]
  },
  {
   "cell_type": "code",
   "execution_count": 7,
   "id": "39b2460c",
   "metadata": {},
   "outputs": [],
   "source": [
    "from nltk.corpus import wordnet\n",
    "from nltk.stem import WordNetLemmatizer\n",
    "lemmatizer = WordNetLemmatizer()\n",
    "wordnet_map = {\"N\":wordnet.NOUN, \"V\":wordnet.VERB, \"J\":wordnet.ADJ, \"R\":wordnet.ADV} # Pos tag, used Noun, Verb, Adjective and Adverb\n",
    "# Function for lemmatization using POS tag\n",
    "def lemmatize_words(text):\n",
    "    pos_tagged_text = nltk.pos_tag(text.split())\n",
    "    return \" \".join([lemmatizer.lemmatize(word, wordnet_map.get(pos[0], wordnet.NOUN)) for word, pos in pos_tagged_text])\n",
    "\n",
    "# df[\"text_lemma\"] = df[\"text_expanded\"].apply(lemmatize_words)\n"
   ]
  },
  {
   "cell_type": "code",
   "execution_count": 8,
   "id": "4f91e51e",
   "metadata": {},
   "outputs": [],
   "source": [
    "def remove_hashtags(text):\n",
    "    no_hash = re.compile(\"#(\\w+)\")\n",
    "    return no_hash.sub(r' ', text)\n",
    "\n",
    "# df['text_no_hash'] = df['text_lemma'].apply(remove_hashtags)"
   ]
  },
  {
   "cell_type": "code",
   "execution_count": 9,
   "id": "67d18a06",
   "metadata": {},
   "outputs": [],
   "source": [
    "#Creating function for tokenization\n",
    "def tokenization(text):\n",
    "    text = re.split('\\W+', text)\n",
    "    return text\n",
    "\n",
    "# df['text_tokenized'] = df['text_no_hash'].apply(lambda x: tokenization(x.lower()))"
   ]
  },
  {
   "cell_type": "code",
   "execution_count": 10,
   "id": "16618b76",
   "metadata": {},
   "outputs": [],
   "source": [
    "from nltk.tokenize.treebank import TreebankWordDetokenizer\n",
    "\n",
    "# df['processed_data'] = [TreebankWordDetokenizer().detokenize(text) for text in df['text_tokenized']]"
   ]
  },
  {
   "cell_type": "code",
   "execution_count": 11,
   "id": "afe8f4d3",
   "metadata": {},
   "outputs": [],
   "source": [
    "from textblob import TextBlob\n",
    "sentiment = []\n",
    "\n",
    "# for sentence in df['processed_data']: \n",
    "#     sentiment.append(TextBlob(sentence).sentiment.polarity*10)\n",
    "    \n",
    "def textblob_sentiment(text):\n",
    "    return TextBlob(text).sentiment.polarity*10\n",
    "    \n",
    "# df['sentiment_processed'] = df['processed_data'].apply(textblob_sentiment)"
   ]
  },
  {
   "cell_type": "code",
   "execution_count": 12,
   "id": "3f86110f",
   "metadata": {},
   "outputs": [],
   "source": [
    "from nltk.sentiment.vader import SentimentIntensityAnalyzer\n",
    "\n",
    "sentiment_vader = SentimentIntensityAnalyzer()\n",
    "\n",
    "def vader_sentiment(text):\n",
    "    return sentiment_vader.polarity_scores(text)['compound']*10\n",
    "\n",
    "\n",
    "# df['new_vader_sentiment'] = df['processed_data'].apply(vader_sentiment)"
   ]
  },
  {
   "cell_type": "code",
   "execution_count": 13,
   "id": "ec4660ea",
   "metadata": {},
   "outputs": [],
   "source": [
    "def sent_to_text(sentiment, sentiment2):\n",
    "    if sentiment < 0 and sentiment2 < 0:\n",
    "        sentiment = 'neg'\n",
    "    elif sentiment >= 0 or sentiment2 >= 0:\n",
    "        sentiment = 'pos'\n",
    "\n",
    "    return sentiment\n",
    "\n",
    "# # df['label'] = df[['sentiment_processed', 'new_vader_sentiment']].apply(sent_to_text)\n",
    "# df['label'] = df.apply(lambda x: sent_to_text(x.sentiment_processed, x.new_vader_sentiment), axis=1)\n"
   ]
  },
  {
   "cell_type": "code",
   "execution_count": 14,
   "id": "bd80b162",
   "metadata": {},
   "outputs": [],
   "source": [
    "def preprocessing(df):\n",
    "    df['text_lower'] = df['tweet'].apply(text_lower)\n",
    "    df['text_no_user'] = df['text_lower'].apply(remove_usernames)\n",
    "    df['text_no_emoji'] = df['text_no_user'].apply(convert_emoticons)\n",
    "    df['text_no_emoji'] = df['text_no_user'].apply(convert_emojis)\n",
    "    df['text_no_url'] = df['text_no_emoji'].apply(remove_urls)\n",
    "    df['text_no_url'] = df['text_no_emoji'].apply(remove_urls)\n",
    "    df['text_expanded'] = df['text_no_url'].apply(word_expand)\n",
    "    df[\"text_lemma\"] = df[\"text_expanded\"].apply(lemmatize_words)\n",
    "    df['text_no_hash'] = df['text_lemma'].apply(remove_hashtags)\n",
    "    df['text_tokenized'] = df['text_no_hash'].apply(lambda x: tokenization(x.lower()))\n",
    "    df['processed_data'] = [TreebankWordDetokenizer().detokenize(text) for text in df['text_tokenized']]\n",
    "    df['sentiment_processed'] = df['processed_data'].apply(textblob_sentiment)\n",
    "    df['new_vader_sentiment'] = df['processed_data'].apply(vader_sentiment)\n",
    "    df['label'] = df.apply(lambda x: sent_to_text(x.sentiment_processed, x.new_vader_sentiment), axis=1)\n",
    "    df = df.drop(['tweet', 'text_lower', 'text_no_user', 'text_no_url', 'text_no_emoji', 'text_expanded', 'text_lemma', 'text_no_hash', 'text_tokenized', 'sentiment_processed', 'new_vader_sentiment'], axis=1)\n",
    "    df.rename(columns = {'processed_data':'tweet'}, inplace = True)\n",
    "    \n",
    "    return df"
   ]
  }
 ],
 "metadata": {
  "kernelspec": {
   "display_name": "Python 3 (ipykernel)",
   "language": "python",
   "name": "python3"
  },
  "language_info": {
   "codemirror_mode": {
    "name": "ipython",
    "version": 3
   },
   "file_extension": ".py",
   "mimetype": "text/x-python",
   "name": "python",
   "nbconvert_exporter": "python",
   "pygments_lexer": "ipython3",
   "version": "3.10.14"
  }
 },
 "nbformat": 4,
 "nbformat_minor": 5
}
